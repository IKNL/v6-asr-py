{
 "cells": [
  {
   "cell_type": "markdown",
   "metadata": {},
   "source": [
    "# vantage6: Age Standerdized Incidence Rate\n",
    "Algorithm that calculates crude rate and adjusted rate. The returned (Python) dictonary contains:\n",
    "* `local_crude_rate`\n",
    "* `combined_crude_rate`\n",
    "* `local_adjusted_rate`\n",
    "* `combined_adjusted_rate`\n",
    "\n",
    "Limits of the algorithm:\n",
    "* The entire dataset needs at least 10 records at each data-station (node). Else no statistical analysis could be performed\n",
    "* Each dataset has to match the same formatting\n",
    "* Column names (from the input) need to match the dataset column names\n",
    "\n",
    "The central part of the algorithm can be executed by the _master_-container. This takes care of combining the results from the individual containers. It is also the prefered way of computing the ASR. However it is also possible to request the distributed part of the algorithm yourself. In this notebook we first show how to compute the ASR using the _master_-container and in the second part we show how you can perform the central part of the algorithm yourself."
   ]
  },
  {
   "cell_type": "markdown",
   "metadata": {},
   "source": [
    "## 1 Option 1: ASR using a master container (prefered)\n",
    "The central part of the algorithm can be executed by the master-container. The master container computes the combined crude and adjusted age standerdized incidence rates by combining the results reported from each individual node.\n",
    "\n",
    "Things to keep in mind: \n",
    "* if there are too few rows in the datasets then you will recieve a `Dataset is too small: len(data) < 10` error\n",
    "* if the columns in the input_ file do not match the ones on the dataframe you will recieve a `KeyError: ` error "
   ]
  },
  {
   "cell_type": "code",
   "execution_count": 1,
   "metadata": {},
   "outputs": [],
   "source": [
    "from vantage6.client import Client\n",
    "from pathlib import Path\n",
    "import pandas as pd # pandas>=1.1.0 (!)"
   ]
  },
  {
   "cell_type": "markdown",
   "metadata": {},
   "source": [
    "### 1.1.1 The client\n",
    "First you have to configure the client. The client is the interface to the central server. It contains methods to post tasks and retrieve their results. Note that this Client is still under heavy development so it might change quite a bit in the future."
   ]
  },
  {
   "cell_type": "code",
   "execution_count": 2,
   "metadata": {},
   "outputs": [],
   "source": [
    "# Server information: url, port, api_path\n",
    "client = Client(\"http://localhost\", 5000, \"\")\n",
    "# Authentication using username and password\n",
    "client.authenticate(\"frank@iknl.nl\", \"qwerty123\")\n",
    "# when we start using encryption, we need to specify the path to the private key file here...\n",
    "client.setup_encryption(None) "
   ]
  },
  {
   "cell_type": "markdown",
   "metadata": {},
   "source": [
    "### 1.2 Specifying the input\n",
    "The input consist out of 3 parts:\n",
    "* `method`: This is the name of the method that is triggerd within the docker container. When using the ASR master method, this needs to be set to `master`.\n",
    "* `master`: Boolean indicating we are using a master container or not. The method name does *not* do this (master methods are not neccasserely called master).\n",
    "* `kwargs` or `args`: The input arguments for the `method`. You can either specify them in a dictonairy (`kwargs`) or as a list (`args`). Note that the order matters when using `args`, therefore we prefer to use `kwargs`.\n",
    "\n",
    "The `kwargs` in the example below represent the following:\n",
    "* `incidence`, `population`, `gender`, `ageclass` and `prefacture` are column names as they are in the datafiles attached to the nodes. These need to be the same for all datastations (nodes)!\n",
    "* `standard_population`  must be a Pandas Dataframe and can be read in as an `.xlsx` via `pd.read_excel` or a `.csv` via `pd.read_csv`\n"
   ]
  },
  {
   "cell_type": "code",
   "execution_count": 3,
   "metadata": {},
   "outputs": [],
   "source": [
    "# Define algorithm input\n",
    "input_ = {\n",
    "    \"method\": \"master\",\n",
    "    \"master\": True,\n",
    "    \"kwargs\": {\n",
    "        \"incidence\": \"incidence\",\n",
    "        \"population\": \"pop\",\n",
    "        \"gender\": \"sex\",\n",
    "        \"ageclass\": \"agec\",\n",
    "        \"prefacture\": \"pref\",\n",
    "        \"standard_population\": pd.read_excel(r'..\\v6-asr-py\\local\\std_pop.xls')\n",
    "    }\n",
    "}"
   ]
  },
  {
   "cell_type": "markdown",
   "metadata": {},
   "source": [
    "### 1.3 Request computation"
   ]
  },
  {
   "cell_type": "code",
   "execution_count": 4,
   "metadata": {},
   "outputs": [],
   "source": [
    "# Send the task to the central server RPC METHOD\n",
    "task = client.post_task(\n",
    "    name=\"testing\",\n",
    "    image=\"harbor.vantage6.ai/algorithms/asr\",\n",
    "    collaboration_id=1,\n",
    "    input_= input_,\n",
    "    organization_ids=[1]\n",
    ")"
   ]
  },
  {
   "cell_type": "markdown",
   "metadata": {},
   "source": [
    "Above we can see that the task being sent to the node encompasses the name of the task, `testing`, the docker image reference containing the algorithm `harbor.vantage6.ai/algorithms/asr`, the collaboration id `1`, the input and finally all the organization ids which in this case is set to the first organization by `organization_ids=[1]`. Depending on how many nodes are connected you can requestion a calculation from the individual node by adjusting this value, i.e. by setting `organization_ids = [2]`. Because this is a master method, the task first gets executed at the specified node and then distributed amongst the rest of the nodes in the collaboration."
   ]
  },
  {
   "cell_type": "markdown",
   "metadata": {},
   "source": [
    "### 1.4 Retrieving the results \n",
    "\n",
    "Below highlights the method of retrieving the results once the server and nodes have completed the computation. As a researcher, a lot of information that is returned by the method is not directly relevant. To retrieve the results you would use the `client.get_results(task_id=task.get(\"id\"))` method, we defined a little polling method `wait_for_results` to check if the results are ready to be retrieved. The result is returned as a list object of dictionairies. This is important to know as it makes accessing the relevant information much more straightforward. "
   ]
  },
  {
   "cell_type": "code",
   "execution_count": 5,
   "metadata": {},
   "outputs": [],
   "source": [
    "# this method becomes part of the client in a future release\n",
    "import time\n",
    "def wait_for_results(client, task):\n",
    "    task_id = task.get(\"id\")\n",
    "    task = client.request(f\"task/{task_id}\")\n",
    "    while not task.get(\"complete\"):\n",
    "        task = client.request(f\"task/{task_id}\")\n",
    "        print(\"Waiting for results\")\n",
    "        time.sleep(1)\n",
    "    res = client.get_results(task_id=task_id)\n",
    "    return res"
   ]
  },
  {
   "cell_type": "code",
   "execution_count": 6,
   "metadata": {},
   "outputs": [
    {
     "name": "stdout",
     "output_type": "stream",
     "text": [
      "Waiting for results\n",
      "Waiting for results\n",
      "Waiting for results\n",
      "Waiting for results\n",
      "Waiting for results\n"
     ]
    },
    {
     "data": {
      "text/plain": [
       "dict_keys(['task', 'id', 'started_at', 'log', 'assigned_at', 'result', 'input', 'finished_at', 'organization'])"
      ]
     },
     "metadata": {},
     "output_type": "display_data"
    },
    {
     "data": {
      "text/plain": [
       "dict_keys(['local_crude_rate', 'combined_crude_rate', 'local_adjusted_rate', 'combined_adjusted_rate'])"
      ]
     },
     "metadata": {},
     "output_type": "display_data"
    }
   ],
   "source": [
    "# Retrieve the results, and since this is only a single organization we pop the first record in the list\n",
    "res = wait_for_results(client, task)[0]\n",
    "display(res.keys())\n",
    "display(res['result'].keys())"
   ]
  },
  {
   "cell_type": "markdown",
   "metadata": {},
   "source": [
    "### 1.5 Display results"
   ]
  },
  {
   "cell_type": "markdown",
   "metadata": {},
   "source": [
    "#### local crude rate"
   ]
  },
  {
   "cell_type": "code",
   "execution_count": 7,
   "metadata": {},
   "outputs": [
    {
     "data": {
      "text/html": [
       "<div>\n",
       "<style scoped>\n",
       "    .dataframe tbody tr th:only-of-type {\n",
       "        vertical-align: middle;\n",
       "    }\n",
       "\n",
       "    .dataframe tbody tr th {\n",
       "        vertical-align: top;\n",
       "    }\n",
       "\n",
       "    .dataframe thead th {\n",
       "        text-align: right;\n",
       "    }\n",
       "</style>\n",
       "<table border=\"1\" class=\"dataframe\">\n",
       "  <thead>\n",
       "    <tr style=\"text-align: right;\">\n",
       "      <th>sex</th>\n",
       "      <th>1</th>\n",
       "      <th>2</th>\n",
       "      <th>9</th>\n",
       "    </tr>\n",
       "    <tr>\n",
       "      <th>pref</th>\n",
       "      <th></th>\n",
       "      <th></th>\n",
       "      <th></th>\n",
       "    </tr>\n",
       "  </thead>\n",
       "  <tbody>\n",
       "    <tr>\n",
       "      <th>0</th>\n",
       "      <td>25.583473</td>\n",
       "      <td>10.925984</td>\n",
       "      <td>16.115497</td>\n",
       "    </tr>\n",
       "    <tr>\n",
       "      <th>1</th>\n",
       "      <td>23.086337</td>\n",
       "      <td>16.318028</td>\n",
       "      <td>17.716605</td>\n",
       "    </tr>\n",
       "    <tr>\n",
       "      <th>2</th>\n",
       "      <td>35.697409</td>\n",
       "      <td>24.584043</td>\n",
       "      <td>55.478879</td>\n",
       "    </tr>\n",
       "  </tbody>\n",
       "</table>\n",
       "</div>"
      ],
      "text/plain": [
       "sex           1          2          9\n",
       "pref                                 \n",
       "0     25.583473  10.925984  16.115497\n",
       "1     23.086337  16.318028  17.716605\n",
       "2     35.697409  24.584043  55.478879"
      ]
     },
     "execution_count": 7,
     "metadata": {},
     "output_type": "execute_result"
    }
   ],
   "source": [
    "local_crude_rate = res['result']['local_crude_rate']\n",
    "pd.concat(local_crude_rate).unstack()"
   ]
  },
  {
   "cell_type": "markdown",
   "metadata": {},
   "source": [
    "#### Combined crude rate & combined adjusted rate"
   ]
  },
  {
   "cell_type": "code",
   "execution_count": 8,
   "metadata": {},
   "outputs": [
    {
     "data": {
      "text/html": [
       "<div>\n",
       "<style scoped>\n",
       "    .dataframe tbody tr th:only-of-type {\n",
       "        vertical-align: middle;\n",
       "    }\n",
       "\n",
       "    .dataframe tbody tr th {\n",
       "        vertical-align: top;\n",
       "    }\n",
       "\n",
       "    .dataframe thead th {\n",
       "        text-align: right;\n",
       "    }\n",
       "</style>\n",
       "<table border=\"1\" class=\"dataframe\">\n",
       "  <thead>\n",
       "    <tr style=\"text-align: right;\">\n",
       "      <th></th>\n",
       "      <th>adjust. rate</th>\n",
       "      <th>crude rate</th>\n",
       "    </tr>\n",
       "  </thead>\n",
       "  <tbody>\n",
       "    <tr>\n",
       "      <th>1</th>\n",
       "      <td>23.689427</td>\n",
       "      <td>27.104122</td>\n",
       "    </tr>\n",
       "    <tr>\n",
       "      <th>2</th>\n",
       "      <td>17.201871</td>\n",
       "      <td>16.189863</td>\n",
       "    </tr>\n",
       "    <tr>\n",
       "      <th>9</th>\n",
       "      <td>22.664358</td>\n",
       "      <td>22.053807</td>\n",
       "    </tr>\n",
       "  </tbody>\n",
       "</table>\n",
       "</div>"
      ],
      "text/plain": [
       "   adjust. rate  crude rate\n",
       "1     23.689427   27.104122\n",
       "2     17.201871   16.189863\n",
       "9     22.664358   22.053807"
      ]
     },
     "execution_count": 8,
     "metadata": {},
     "output_type": "execute_result"
    }
   ],
   "source": [
    "combined_adjusted_rate = res['result']['combined_adjusted_rate']\n",
    "combined_crude_rate = res['result']['combined_crude_rate']\n",
    "\n",
    "# temporary fix: errorous labels\n",
    "combined_adjusted_rate = combined_adjusted_rate.rename(index={0:1, 1:2, 2:9})\n",
    "\n",
    "pd.concat([combined_adjusted_rate, combined_crude_rate], keys = [\"adjust. rate\", \"crude rate\"]).unstack().transpose().droplevel(0)"
   ]
  },
  {
   "cell_type": "code",
   "execution_count": 9,
   "metadata": {},
   "outputs": [
    {
     "data": {
      "text/html": [
       "<div>\n",
       "<style scoped>\n",
       "    .dataframe tbody tr th:only-of-type {\n",
       "        vertical-align: middle;\n",
       "    }\n",
       "\n",
       "    .dataframe tbody tr th {\n",
       "        vertical-align: top;\n",
       "    }\n",
       "\n",
       "    .dataframe thead th {\n",
       "        text-align: right;\n",
       "    }\n",
       "</style>\n",
       "<table border=\"1\" class=\"dataframe\">\n",
       "  <thead>\n",
       "    <tr style=\"text-align: right;\">\n",
       "      <th>sex</th>\n",
       "      <th>1</th>\n",
       "      <th>2</th>\n",
       "      <th>9</th>\n",
       "    </tr>\n",
       "  </thead>\n",
       "  <tbody>\n",
       "    <tr>\n",
       "      <th>0</th>\n",
       "      <td>22.816611</td>\n",
       "      <td>11.579615</td>\n",
       "      <td>16.421659</td>\n",
       "    </tr>\n",
       "    <tr>\n",
       "      <th>1</th>\n",
       "      <td>40.842680</td>\n",
       "      <td>34.519603</td>\n",
       "      <td>82.936761</td>\n",
       "    </tr>\n",
       "    <tr>\n",
       "      <th>2</th>\n",
       "      <td>21.724450</td>\n",
       "      <td>16.050380</td>\n",
       "      <td>17.193765</td>\n",
       "    </tr>\n",
       "  </tbody>\n",
       "</table>\n",
       "</div>"
      ],
      "text/plain": [
       "sex          1          2          9\n",
       "0    22.816611  11.579615  16.421659\n",
       "1    40.842680  34.519603  82.936761\n",
       "2    21.724450  16.050380  17.193765"
      ]
     },
     "execution_count": 9,
     "metadata": {},
     "output_type": "execute_result"
    }
   ],
   "source": [
    "local_crude_rate = res['result']['local_adjusted_rate']\n",
    "# temporary fix: added the prefecture by hand\n",
    "pd.concat(local_crude_rate, keys=[0, 1, 2]).unstack()"
   ]
  },
  {
   "cell_type": "markdown",
   "metadata": {},
   "source": [
    "# Option 2) Executing Individual RPC methods and execute the central part of the algorithm at your own machine"
   ]
  },
  {
   "cell_type": "markdown",
   "metadata": {},
   "source": [
    "If we want to run the examples below we need to install the v6-ast-py package first. You can do so by installing it from our github repository (we do not have a pypi release):\n",
    "\n",
    "```shell\n",
    "pip install git+https://github.com/iknl/v6-asr-py\n",
    "```"
   ]
  },
  {
   "cell_type": "code",
   "execution_count": 10,
   "metadata": {},
   "outputs": [],
   "source": [
    "import importlib\n",
    "asr = importlib.import_module('v6-asr-py')"
   ]
  },
  {
   "cell_type": "markdown",
   "metadata": {},
   "source": [
    "## 2.1 RPC_preliminairy_results\n",
    "This method contains the crude rate calculation as well as the incidence population and total local population. This was done to reduce computation time, as it would require less communication between nodes, server and client."
   ]
  },
  {
   "cell_type": "markdown",
   "metadata": {},
   "source": [
    "### input\n",
    "The main difference with the master method is that the `master` key has been set to `False` as this is no longer a master method. The method we want to trigger is `preliminairy_results` (note that we do not specify the `RPC_` part) and this method requires the `kwargs`: `incidence`, `population`, `gender`, `ageclass` and `prefacture`."
   ]
  },
  {
   "cell_type": "code",
   "execution_count": 11,
   "metadata": {},
   "outputs": [],
   "source": [
    "prem_res_input = {\n",
    "        \"method\": \"preliminairy_results\",\n",
    "        \"master\": False,\n",
    "        \"kwargs\": {\n",
    "            \"incidence\": \"incidence\",\n",
    "            \"population\": \"pop\",\n",
    "            \"gender\": \"sex\",\n",
    "            \"ageclass\": \"agec\",\n",
    "            \"prefacture\": \"pref\"\n",
    "        }\n",
    "    } "
   ]
  },
  {
   "cell_type": "markdown",
   "metadata": {},
   "source": [
    "### Task & Results"
   ]
  },
  {
   "cell_type": "code",
   "execution_count": 12,
   "metadata": {},
   "outputs": [],
   "source": [
    "# Send the task to the central server\n",
    "task = client.post_task(\n",
    "    name=\"testing\",\n",
    "    image=\"harbor.vantage6.ai/algorithms/asr\",\n",
    "    collaboration_id=1,\n",
    "    input_= prem_res_input,\n",
    "    organization_ids=[1,2,3]\n",
    ")"
   ]
  },
  {
   "cell_type": "code",
   "execution_count": 13,
   "metadata": {},
   "outputs": [
    {
     "name": "stdout",
     "output_type": "stream",
     "text": [
      "Waiting for results\n",
      "Waiting for results\n"
     ]
    },
    {
     "data": {
      "text/plain": [
       "dict_keys(['crude_rate', 'incidence_population', 'total_local_population', 'total_local_incidence'])"
      ]
     },
     "execution_count": 13,
     "metadata": {},
     "output_type": "execute_result"
    }
   ],
   "source": [
    "# Retrieve the results\n",
    "preliminairy_results = wait_for_results(client, task)\n",
    "preliminairy_results[0]['result'].keys()"
   ]
  },
  {
   "cell_type": "code",
   "execution_count": 14,
   "metadata": {},
   "outputs": [
    {
     "data": {
      "text/plain": [
       "[agec      0       5       10      15      20\n",
       " sex                                         \n",
       " 1       4309  259642  252365  293159  398336\n",
       " 2     247970  247926  242958  285445  385185\n",
       " 9     507995  507568  495323  578604  783521,\n",
       " agec      0       5       10      15      20\n",
       " sex                                         \n",
       " 1      84026  168907  135645  223611  166579\n",
       " 2     184155  213469  186621  132161  145942\n",
       " 9     195985  168251  242006  134654  142323,\n",
       " agec      0       5       10      15      20\n",
       " sex                                         \n",
       " 1       5005  259642  252365  293159  398336\n",
       " 2     247970  247926  242958  285445  385185\n",
       " 9     507995  507568  495323  578604  783521]"
      ]
     },
     "execution_count": 14,
     "metadata": {},
     "output_type": "execute_result"
    }
   ],
   "source": [
    "incidence_population_results = [res['result'][\"incidence_population\"] for res in preliminairy_results]\n",
    "incidence_population_results"
   ]
  },
  {
   "cell_type": "code",
   "execution_count": 15,
   "metadata": {},
   "outputs": [
    {
     "data": {
      "text/plain": [
       "[pref  sex\n",
       " 0     1      25.583473\n",
       "       2      10.925984\n",
       "       9      16.115497\n",
       " dtype: float64,\n",
       " pref  sex\n",
       " 2     1      35.697409\n",
       "       2      24.584043\n",
       "       9      55.478879\n",
       " dtype: float64,\n",
       " pref  sex\n",
       " 1     1      23.086337\n",
       "       2      16.318028\n",
       "       9      17.716605\n",
       " dtype: float64]"
      ]
     },
     "execution_count": 15,
     "metadata": {},
     "output_type": "execute_result"
    }
   ],
   "source": [
    "crude_rate_results = [res['result'][\"crude_rate\"] for res in preliminairy_results]\n",
    "crude_rate_results"
   ]
  },
  {
   "cell_type": "code",
   "execution_count": 16,
   "metadata": {},
   "outputs": [
    {
     "data": {
      "text/plain": [
       "[sex\n",
       " 1    1207811\n",
       " 2    1409484\n",
       " 9    2873011\n",
       " dtype: int64,\n",
       " sex\n",
       " 1    778768\n",
       " 2    862348\n",
       " 9    883219\n",
       " dtype: int64,\n",
       " sex\n",
       " 1    1208507\n",
       " 2    1409484\n",
       " 9    2873011\n",
       " dtype: int64]"
      ]
     },
     "execution_count": 16,
     "metadata": {},
     "output_type": "execute_result"
    }
   ],
   "source": [
    "total_local_population_results = [res['result'][\"total_local_population\"] for res in preliminairy_results]\n",
    "total_local_population_results"
   ]
  },
  {
   "cell_type": "code",
   "execution_count": 17,
   "metadata": {},
   "outputs": [
    {
     "data": {
      "text/plain": [
       "[sex\n",
       " 1    309\n",
       " 2    154\n",
       " 9    463\n",
       " dtype: int64,\n",
       " sex\n",
       " 1    278\n",
       " 2    212\n",
       " 9    490\n",
       " dtype: int64,\n",
       " sex\n",
       " 1    279\n",
       " 2    230\n",
       " 9    509\n",
       " dtype: int64]"
      ]
     },
     "execution_count": 17,
     "metadata": {},
     "output_type": "execute_result"
    }
   ],
   "source": [
    "total_local_incidence_results = [res['result'][\"total_local_incidence\"] for res in preliminairy_results]\n",
    "total_local_incidence_results"
   ]
  },
  {
   "cell_type": "markdown",
   "metadata": {},
   "source": [
    "## 2.2 RPC_adjusted_rate\n",
    "This method calculates the adjusted rate which uses the helper methods relative population `relative_population` (the standard population standerdised to 100000) and `people_at_risk` method to calculate the total people at risk of catching the disease across all nodes- this is used for the combined adjusted rate calculation between all nodes."
   ]
  },
  {
   "cell_type": "code",
   "execution_count": 18,
   "metadata": {},
   "outputs": [],
   "source": [
    "pop_at_risk = asr.people_at_risk(incidence_population_results)\n",
    "std_pop = pd.read_excel(r'..\\v6-asr-py\\local\\std_pop.xls')\n",
    "rel_pop = asr.relative_population(data=std_pop, population='pop', ageclass='agec')"
   ]
  },
  {
   "cell_type": "code",
   "execution_count": 19,
   "metadata": {},
   "outputs": [],
   "source": [
    "adjusted_rate_input = {\n",
    "        \"method\": \"adjusted_rate\",\n",
    "        \"master\": False,\n",
    "        \"kwargs\": {\n",
    "            \"population\": \"pop\",\n",
    "            \"gender\": \"sex\",\n",
    "            \"ageclass\": \"agec\",\n",
    "            \"incidence\": \"incidence\",\n",
    "            \"people_at_risk\": pop_at_risk,\n",
    "            \"rel_pop\": rel_pop\n",
    "        }\n",
    "    }"
   ]
  },
  {
   "cell_type": "code",
   "execution_count": 20,
   "metadata": {},
   "outputs": [],
   "source": [
    "# Send the task to the central server\n",
    "task = client.post_task(\n",
    "    name=\"testing\",\n",
    "    image=\"harbor.vantage6.ai/algorithms/asr\",\n",
    "    collaboration_id=1,\n",
    "    input_= adjusted_rate_input,\n",
    "    organization_ids=[1,2,3]\n",
    ")"
   ]
  },
  {
   "cell_type": "code",
   "execution_count": 21,
   "metadata": {},
   "outputs": [
    {
     "name": "stdout",
     "output_type": "stream",
     "text": [
      "Waiting for results\n",
      "Waiting for results\n"
     ]
    }
   ],
   "source": [
    "adjusted_rate_results = wait_for_results(client, task)"
   ]
  },
  {
   "cell_type": "code",
   "execution_count": 22,
   "metadata": {},
   "outputs": [],
   "source": [
    "adjusted_rate_glob = [res['result']['adj_rate_glob'] for res in adjusted_rate_results]\n",
    "adjusted_rate_local = [res['result']['adj_rate_local'] for res in adjusted_rate_results]"
   ]
  },
  {
   "cell_type": "code",
   "execution_count": 23,
   "metadata": {},
   "outputs": [
    {
     "data": {
      "text/plain": [
       "[sex\n",
       " 1    8.540002\n",
       " 2    4.652259\n",
       " 9    7.370528\n",
       " dtype: float64,\n",
       " sex\n",
       " 1    7.556692\n",
       " 2    6.013214\n",
       " 9    7.548449\n",
       " dtype: float64,\n",
       " sex\n",
       " 1    7.592732\n",
       " 2    6.536398\n",
       " 9    7.745381\n",
       " dtype: float64]"
      ]
     },
     "execution_count": 23,
     "metadata": {},
     "output_type": "execute_result"
    }
   ],
   "source": [
    "adjusted_rate_glob"
   ]
  },
  {
   "cell_type": "code",
   "execution_count": 24,
   "metadata": {},
   "outputs": [
    {
     "data": {
      "text/html": [
       "<div>\n",
       "<style scoped>\n",
       "    .dataframe tbody tr th:only-of-type {\n",
       "        vertical-align: middle;\n",
       "    }\n",
       "\n",
       "    .dataframe tbody tr th {\n",
       "        vertical-align: top;\n",
       "    }\n",
       "\n",
       "    .dataframe thead th {\n",
       "        text-align: right;\n",
       "    }\n",
       "</style>\n",
       "<table border=\"1\" class=\"dataframe\">\n",
       "  <thead>\n",
       "    <tr style=\"text-align: right;\">\n",
       "      <th>sex</th>\n",
       "      <th>1</th>\n",
       "      <th>2</th>\n",
       "      <th>9</th>\n",
       "    </tr>\n",
       "  </thead>\n",
       "  <tbody>\n",
       "    <tr>\n",
       "      <th>site1</th>\n",
       "      <td>8.540002</td>\n",
       "      <td>4.652259</td>\n",
       "      <td>7.370528</td>\n",
       "    </tr>\n",
       "    <tr>\n",
       "      <th>site2</th>\n",
       "      <td>7.556692</td>\n",
       "      <td>6.013214</td>\n",
       "      <td>7.548449</td>\n",
       "    </tr>\n",
       "    <tr>\n",
       "      <th>site3</th>\n",
       "      <td>7.592732</td>\n",
       "      <td>6.536398</td>\n",
       "      <td>7.745381</td>\n",
       "    </tr>\n",
       "  </tbody>\n",
       "</table>\n",
       "</div>"
      ],
      "text/plain": [
       "sex           1         2         9\n",
       "site1  8.540002  4.652259  7.370528\n",
       "site2  7.556692  6.013214  7.548449\n",
       "site3  7.592732  6.536398  7.745381"
      ]
     },
     "execution_count": 24,
     "metadata": {},
     "output_type": "execute_result"
    }
   ],
   "source": [
    "pd.concat(adjusted_rate_glob, keys=['site1', 'site2', 'site3']).unstack()"
   ]
  },
  {
   "cell_type": "markdown",
   "metadata": {},
   "source": [
    "## 2.3 produce final results"
   ]
  },
  {
   "cell_type": "markdown",
   "metadata": {},
   "source": [
    "### local_crude_rate"
   ]
  },
  {
   "cell_type": "code",
   "execution_count": 25,
   "metadata": {},
   "outputs": [
    {
     "data": {
      "text/html": [
       "<div>\n",
       "<style scoped>\n",
       "    .dataframe tbody tr th:only-of-type {\n",
       "        vertical-align: middle;\n",
       "    }\n",
       "\n",
       "    .dataframe tbody tr th {\n",
       "        vertical-align: top;\n",
       "    }\n",
       "\n",
       "    .dataframe thead th {\n",
       "        text-align: right;\n",
       "    }\n",
       "</style>\n",
       "<table border=\"1\" class=\"dataframe\">\n",
       "  <thead>\n",
       "    <tr style=\"text-align: right;\">\n",
       "      <th>sex</th>\n",
       "      <th>1</th>\n",
       "      <th>2</th>\n",
       "      <th>9</th>\n",
       "    </tr>\n",
       "    <tr>\n",
       "      <th>pref</th>\n",
       "      <th></th>\n",
       "      <th></th>\n",
       "      <th></th>\n",
       "    </tr>\n",
       "  </thead>\n",
       "  <tbody>\n",
       "    <tr>\n",
       "      <th>0</th>\n",
       "      <td>25.583473</td>\n",
       "      <td>10.925984</td>\n",
       "      <td>16.115497</td>\n",
       "    </tr>\n",
       "    <tr>\n",
       "      <th>1</th>\n",
       "      <td>23.086337</td>\n",
       "      <td>16.318028</td>\n",
       "      <td>17.716605</td>\n",
       "    </tr>\n",
       "    <tr>\n",
       "      <th>2</th>\n",
       "      <td>35.697409</td>\n",
       "      <td>24.584043</td>\n",
       "      <td>55.478879</td>\n",
       "    </tr>\n",
       "  </tbody>\n",
       "</table>\n",
       "</div>"
      ],
      "text/plain": [
       "sex           1          2          9\n",
       "pref                                 \n",
       "0     25.583473  10.925984  16.115497\n",
       "1     23.086337  16.318028  17.716605\n",
       "2     35.697409  24.584043  55.478879"
      ]
     },
     "execution_count": 25,
     "metadata": {},
     "output_type": "execute_result"
    }
   ],
   "source": [
    "pd.concat(crude_rate_results).unstack()"
   ]
  },
  {
   "cell_type": "markdown",
   "metadata": {},
   "source": [
    "### combined_crude_rate"
   ]
  },
  {
   "cell_type": "code",
   "execution_count": 26,
   "metadata": {},
   "outputs": [
    {
     "data": {
      "text/html": [
       "<div>\n",
       "<style scoped>\n",
       "    .dataframe tbody tr th:only-of-type {\n",
       "        vertical-align: middle;\n",
       "    }\n",
       "\n",
       "    .dataframe tbody tr th {\n",
       "        vertical-align: top;\n",
       "    }\n",
       "\n",
       "    .dataframe thead th {\n",
       "        text-align: right;\n",
       "    }\n",
       "</style>\n",
       "<table border=\"1\" class=\"dataframe\">\n",
       "  <thead>\n",
       "    <tr style=\"text-align: right;\">\n",
       "      <th></th>\n",
       "      <th>0</th>\n",
       "    </tr>\n",
       "    <tr>\n",
       "      <th>sex</th>\n",
       "      <th></th>\n",
       "    </tr>\n",
       "  </thead>\n",
       "  <tbody>\n",
       "    <tr>\n",
       "      <th>1</th>\n",
       "      <td>27.104122</td>\n",
       "    </tr>\n",
       "    <tr>\n",
       "      <th>2</th>\n",
       "      <td>16.189863</td>\n",
       "    </tr>\n",
       "    <tr>\n",
       "      <th>9</th>\n",
       "      <td>22.053807</td>\n",
       "    </tr>\n",
       "  </tbody>\n",
       "</table>\n",
       "</div>"
      ],
      "text/plain": [
       "             0\n",
       "sex           \n",
       "1    27.104122\n",
       "2    16.189863\n",
       "9    22.053807"
      ]
     },
     "execution_count": 26,
     "metadata": {},
     "output_type": "execute_result"
    }
   ],
   "source": [
    "combined_crude_rate = asr.combined_crude_rate(total_local_incidence_results, total_local_population_results)\n",
    "combined_crude_rate"
   ]
  },
  {
   "cell_type": "markdown",
   "metadata": {},
   "source": [
    "### local_adjusted_rate"
   ]
  },
  {
   "cell_type": "code",
   "execution_count": 27,
   "metadata": {},
   "outputs": [
    {
     "data": {
      "text/html": [
       "<div>\n",
       "<style scoped>\n",
       "    .dataframe tbody tr th:only-of-type {\n",
       "        vertical-align: middle;\n",
       "    }\n",
       "\n",
       "    .dataframe tbody tr th {\n",
       "        vertical-align: top;\n",
       "    }\n",
       "\n",
       "    .dataframe thead th {\n",
       "        text-align: right;\n",
       "    }\n",
       "</style>\n",
       "<table border=\"1\" class=\"dataframe\">\n",
       "  <thead>\n",
       "    <tr style=\"text-align: right;\">\n",
       "      <th>sex</th>\n",
       "      <th>1</th>\n",
       "      <th>2</th>\n",
       "      <th>9</th>\n",
       "    </tr>\n",
       "  </thead>\n",
       "  <tbody>\n",
       "    <tr>\n",
       "      <th>site1</th>\n",
       "      <td>22.816611</td>\n",
       "      <td>11.579615</td>\n",
       "      <td>16.421659</td>\n",
       "    </tr>\n",
       "    <tr>\n",
       "      <th>site2</th>\n",
       "      <td>40.842680</td>\n",
       "      <td>34.519603</td>\n",
       "      <td>82.936761</td>\n",
       "    </tr>\n",
       "    <tr>\n",
       "      <th>site3</th>\n",
       "      <td>21.724450</td>\n",
       "      <td>16.050380</td>\n",
       "      <td>17.193765</td>\n",
       "    </tr>\n",
       "  </tbody>\n",
       "</table>\n",
       "</div>"
      ],
      "text/plain": [
       "sex            1          2          9\n",
       "site1  22.816611  11.579615  16.421659\n",
       "site2  40.842680  34.519603  82.936761\n",
       "site3  21.724450  16.050380  17.193765"
      ]
     },
     "execution_count": 27,
     "metadata": {},
     "output_type": "execute_result"
    }
   ],
   "source": [
    "pd.concat(adjusted_rate_local, keys=['site1', 'site2', 'site3']).unstack()"
   ]
  },
  {
   "cell_type": "markdown",
   "metadata": {},
   "source": [
    "### combined_adjusted_rate"
   ]
  },
  {
   "cell_type": "code",
   "execution_count": 29,
   "metadata": {},
   "outputs": [
    {
     "data": {
      "text/html": [
       "<div>\n",
       "<style scoped>\n",
       "    .dataframe tbody tr th:only-of-type {\n",
       "        vertical-align: middle;\n",
       "    }\n",
       "\n",
       "    .dataframe tbody tr th {\n",
       "        vertical-align: top;\n",
       "    }\n",
       "\n",
       "    .dataframe thead th {\n",
       "        text-align: right;\n",
       "    }\n",
       "</style>\n",
       "<table border=\"1\" class=\"dataframe\">\n",
       "  <thead>\n",
       "    <tr style=\"text-align: right;\">\n",
       "      <th></th>\n",
       "      <th>0</th>\n",
       "    </tr>\n",
       "  </thead>\n",
       "  <tbody>\n",
       "    <tr>\n",
       "      <th>0</th>\n",
       "      <td>23.689427</td>\n",
       "    </tr>\n",
       "    <tr>\n",
       "      <th>1</th>\n",
       "      <td>17.201871</td>\n",
       "    </tr>\n",
       "    <tr>\n",
       "      <th>2</th>\n",
       "      <td>22.664358</td>\n",
       "    </tr>\n",
       "  </tbody>\n",
       "</table>\n",
       "</div>"
      ],
      "text/plain": [
       "           0\n",
       "0  23.689427\n",
       "1  17.201871\n",
       "2  22.664358"
      ]
     },
     "execution_count": 29,
     "metadata": {},
     "output_type": "execute_result"
    }
   ],
   "source": [
    "combined_adjusted_rate = asr.combined_adjusted_rate(adjusted_rate_glob)\n",
    "combined_adjusted_rate"
   ]
  }
 ],
 "metadata": {
  "kernelspec": {
   "display_name": "vantage6",
   "language": "python",
   "name": "vantage6"
  },
  "language_info": {
   "codemirror_mode": {
    "name": "ipython",
    "version": 3
   },
   "file_extension": ".py",
   "mimetype": "text/x-python",
   "name": "python",
   "nbconvert_exporter": "python",
   "pygments_lexer": "ipython3",
   "version": "3.7.6"
  }
 },
 "nbformat": 4,
 "nbformat_minor": 4
}
