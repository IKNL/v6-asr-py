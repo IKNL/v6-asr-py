{
 "cells": [
  {
   "cell_type": "markdown",
   "metadata": {},
   "source": [
    "# Age Standerdized Incidence Rate\n",
    "Algorithm that calculates crude rate and adjusted rate:\n",
    "* Local crude rate `local_crude_rate`\n",
    "* Combined crude rate `combined_crude_rate`\n",
    "* Local adjusted rate `local_adjusted_rate`\n",
    "* Combined adjusted rate `combined_adjusted_rate`\n",
    "\n",
    "Limits of the algorithm:\n",
    "* The entire dataset needs at least 10 records. Else no statistical analysis should be performed\n",
    "* Dataset has to match the formatting requested \n",
    "* Column names (from the input) need to match the dataset column names"
   ]
  },
  {
   "cell_type": "markdown",
   "metadata": {},
   "source": [
    "## Master \n",
    "The master container computes the combined crude and adjusted age standerdized incidence rates. \n",
    "\n",
    "Things to keep in mind: \n",
    "* if there are too few rows in the datasets then you will recieve a `Dataset is too small: len(data) < 10` error\n",
    "* if the columns in the input_ file do not match the ones on the dataframe you will recieve a `KeyError: ` error "
   ]
  },
  {
   "cell_type": "code",
   "execution_count": 13,
   "metadata": {},
   "outputs": [],
   "source": [
    "from vantage6.client import Client\n",
    "from pathlib import Path\n",
    "import pandas as pd\n",
    "import importlib\n",
    "asr=importlib.import_module('v6-asr-py') "
   ]
  },
  {
   "cell_type": "markdown",
   "metadata": {},
   "source": [
    "### input.txt\n",
    "The input.txt is mounted by the docker-container, and contains input to the algorithm.\n",
    "\n",
    "The input for this algorithm includes the method name that is called in the docker-container `master` and a `dict` containing column names and the file location for the `standard_population` which is used in the adjusted rate calculation.  Here the `standard_population` must be a Pandas Dataframe and can be read in as an `.xlsx` via `pd.read_excel` or a `.csv` via `pd.read_csv`. This has to be provided at the node as an input parameter as the master method takes in a client as the first argument followed by a single dataset. "
   ]
  },
  {
   "cell_type": "code",
   "execution_count": 17,
   "metadata": {},
   "outputs": [],
   "source": [
    "client = Client(\"http://localhost\", 5000, \"/api\")\n",
    "client.authenticate(\"Hasan\", \"password1\")\n",
    "client.setup_encryption(None)"
   ]
  },
  {
   "cell_type": "code",
   "execution_count": 18,
   "metadata": {},
   "outputs": [],
   "source": [
    "# Define algorithm input\n",
    "input_ = {\n",
    "        \"method\": \"master\",\n",
    "        \"master\": True,\n",
    "        \"kwargs\": {\n",
    "            \"incidence\": \"incidence\",\n",
    "            \"population\": \"pop\",\n",
    "            \"gender\": \"sex\",\n",
    "            \"ageclass\": \"agec\",\n",
    "            \"prefacture\": \"pref\",\n",
    "            \"standard_population\": pd.read_excel(r'C:\\Users\\hal2002.53340\\Repositories\\vantage6-repositories\\v6-asr-py\\v6-asr-py\\local\\std_pop.xlsx')\n",
    "        }\n",
    "    }"
   ]
  },
  {
   "cell_type": "code",
   "execution_count": 19,
   "metadata": {},
   "outputs": [],
   "source": [
    "# Send the task to the central server RPC METHOD\n",
    "task = client.post_task(\n",
    "    name=\"testing\",\n",
    "    image=\"harbor.vantage6.ai/algorithms/asr\",\n",
    "    collaboration_id=1,\n",
    "    input_= input_,\n",
    "    organization_ids=[1]\n",
    ")"
   ]
  },
  {
   "cell_type": "markdown",
   "metadata": {},
   "source": [
    "Above we can see that the task being sent to the node encompasses the name of the task, `testing`, the docker image of the algorithm `harbor.vantage6.ai/algorithms/asr`, the collaboration identification `1`, the \n",
    "input which contains the `input.txt` and last but not least of all the organization id which here is set to the first node by `organization_ids=[1]` although, depending on how many nodes are connected you can requestion a calculation from the individual node by adjusting this value, i.e. by setting `organization_ids = [2]`. Because this is a master method, the task first gets executed at the specified node and then distributed amongst the rest of the nodes in the collaboration. This is less important when doing a distributed calculation, unless a specific node holds a dataset that, for instance begins the calculation, rather it is more important when calculating individual RPC methods on the different nodes. An example of this will be shown in the Individual RPC methods section below. "
   ]
  },
  {
   "cell_type": "markdown",
   "metadata": {},
   "source": [
    "### Interperting the results \n",
    "\n",
    "Below highlights the method of retrieving the results once the server and nodes have completed the computation. It is important to note that a lot of what gets sent back is not what you, as a researcher, would like to see. To  retrieve the results you would use the `client.get_results(task_id=task.get(\"id\"))` method. It is it convinient to give the result a name, like `res` so that it is easier to access. The result is returned as a list object with a dictionairy nested within it. This is important to know as it makes accessing the relevant information much more straightforward. "
   ]
  },
  {
   "cell_type": "code",
   "execution_count": 25,
   "metadata": {},
   "outputs": [
    {
     "data": {
      "text/plain": [
       "[{'task': {'id': 71, 'link': '/api/task/71', 'methods': ['GET', 'DELETE']},\n",
       "  'assigned_at': '2020-12-18T15:49:59.082888+00:00',\n",
       "  'organization': {'id': 1,\n",
       "   'link': '/api/organization/1',\n",
       "   'methods': ['PATCH', 'GET']},\n",
       "  'id': 133,\n",
       "  'started_at': '2020-12-18T16:50:01.376516+00:00',\n",
       "  'finished_at': '2020-12-18T16:51:17.995197+00:00',\n",
       "  'result': {'local_crude_rate': [pref  sex\n",
       "    0     1      25.583473\n",
       "          2      10.925984\n",
       "          9      16.115497\n",
       "    dtype: float64,\n",
       "    pref  sex\n",
       "    1     1      23.086337\n",
       "          2      16.318028\n",
       "          9      17.716605\n",
       "    dtype: float64,\n",
       "    pref  sex\n",
       "    2     1      35.697409\n",
       "          2      24.584043\n",
       "          9      55.478879\n",
       "    dtype: float64],\n",
       "   'combined_crude_rate':              0\n",
       "   sex           \n",
       "   1    27.104122\n",
       "   2    16.189863\n",
       "   9    22.053807,\n",
       "   'local_adjusted_rate': [sex\n",
       "    1    22.494108\n",
       "    2    11.659402\n",
       "    9    16.530740\n",
       "    dtype: float64,\n",
       "    sex\n",
       "    1    20.910456\n",
       "    2    16.133185\n",
       "    9    17.289178\n",
       "    dtype: float64,\n",
       "    sex\n",
       "    1    41.115899\n",
       "    2    34.742488\n",
       "    9    83.490644\n",
       "    dtype: float64],\n",
       "   'combined_adjusted_rate':            0\n",
       "   0  23.771453\n",
       "   1  17.306213\n",
       "   2  22.806310},\n",
       "  'input': b'\\x80\\x04\\x95#\\x04\\x00\\x00\\x00\\x00\\x00\\x00}\\x94(\\x8c\\x06method\\x94\\x8c\\x06master\\x94h\\x02\\x88\\x8c\\x06kwargs\\x94}\\x94(\\x8c\\tincidence\\x94h\\x05\\x8c\\npopulation\\x94\\x8c\\x03pop\\x94\\x8c\\x06gender\\x94\\x8c\\x03sex\\x94\\x8c\\x08ageclass\\x94\\x8c\\x04agec\\x94\\x8c\\nprefacture\\x94\\x8c\\x04pref\\x94\\x8c\\x13standard_population\\x94\\x8c\\x11pandas.core.frame\\x94\\x8c\\tDataFrame\\x94\\x93\\x94)\\x81\\x94}\\x94(\\x8c\\x04_mgr\\x94\\x8c\\x1epandas.core.internals.managers\\x94\\x8c\\x0cBlockManager\\x94\\x93\\x94)\\x81\\x94(]\\x94(\\x8c\\x18pandas.core.indexes.base\\x94\\x8c\\n_new_Index\\x94\\x93\\x94h\\x1a\\x8c\\x05Index\\x94\\x93\\x94}\\x94(\\x8c\\x04data\\x94\\x8c\\x15numpy.core.multiarray\\x94\\x8c\\x0c_reconstruct\\x94\\x93\\x94\\x8c\\x05numpy\\x94\\x8c\\x07ndarray\\x94\\x93\\x94K\\x00\\x85\\x94C\\x01b\\x94\\x87\\x94R\\x94(K\\x01K\\x03\\x85\\x94h$\\x8c\\x05dtype\\x94\\x93\\x94\\x8c\\x02O8\\x94\\x89\\x88\\x87\\x94R\\x94(K\\x03\\x8c\\x01|\\x94NNNJ\\xff\\xff\\xff\\xffJ\\xff\\xff\\xff\\xffK?t\\x94b\\x89]\\x94(\\x8c\\x03age\\x94\\x8c\\x03pop\\x94\\x8c\\x04agec\\x94et\\x94b\\x8c\\x04name\\x94Nu\\x86\\x94R\\x94h\\x1c\\x8c\\x19pandas.core.indexes.range\\x94\\x8c\\nRangeIndex\\x94\\x93\\x94}\\x94(h8N\\x8c\\x05start\\x94K\\x00\\x8c\\x04stop\\x94K\\x05\\x8c\\x04step\\x94K\\x01u\\x86\\x94R\\x94e]\\x94(h#h&K\\x00\\x85\\x94h(\\x87\\x94R\\x94(K\\x01K\\x02K\\x05\\x86\\x94h-\\x8c\\x02i8\\x94\\x89\\x88\\x87\\x94R\\x94(K\\x03\\x8c\\x01<\\x94NNNJ\\xff\\xff\\xff\\xffJ\\xff\\xff\\xff\\xffK\\x00t\\x94b\\x89CP\\x9b\\xc3\\t\\x00\\x00\\x00\\x00\\x00P:\\x7f\\x00\\x00\\x00\\x00\\x00h\\xa7\\x81\\x00\\x00\\x00\\x00\\x00\\x98\\x10\\x84\\x00\\x00\\x00\\x00\\x00\\xb0}\\x86\\x00\\x00\\x00\\x00\\x00\\x00\\x00\\x00\\x00\\x00\\x00\\x00\\x00\\x05\\x00\\x00\\x00\\x00\\x00\\x00\\x00\\n\\x00\\x00\\x00\\x00\\x00\\x00\\x00\\x0f\\x00\\x00\\x00\\x00\\x00\\x00\\x00\\x14\\x00\\x00\\x00\\x00\\x00\\x00\\x00\\x94t\\x94bh#h&K\\x00\\x85\\x94h(\\x87\\x94R\\x94(K\\x01K\\x01K\\x05\\x86\\x94h0\\x89]\\x94(\\x8c\\x030-4\\x94\\x8c\\x035-9\\x94\\x8c\\x0510-14\\x94\\x8c\\x0515-19\\x94\\x8c\\x0520-24\\x94et\\x94be]\\x94(h\\x1ch\\x1e}\\x94(h h#h&K\\x00\\x85\\x94h(\\x87\\x94R\\x94(K\\x01K\\x02\\x85\\x94h0\\x89]\\x94(h5h6et\\x94bh8Nu\\x86\\x94R\\x94h\\x1ch\\x1e}\\x94(h h#h&K\\x00\\x85\\x94h(\\x87\\x94R\\x94(K\\x01K\\x01\\x85\\x94h0\\x89]\\x94h4at\\x94bh8Nu\\x86\\x94R\\x94e}\\x94\\x8c\\x060.14.1\\x94}\\x94(\\x8c\\x04axes\\x94h\\x19\\x8c\\x06blocks\\x94]\\x94(}\\x94(\\x8c\\x06values\\x94hG\\x8c\\x08mgr_locs\\x94\\x8c\\x08builtins\\x94\\x8c\\x05slice\\x94\\x93\\x94K\\x01K\\x03K\\x01\\x87\\x94R\\x94u}\\x94(huhRhvhyK\\x00K\\x01K\\x01\\x87\\x94R\\x94ueust\\x94b\\x8c\\x04_typ\\x94\\x8c\\tdataframe\\x94\\x8c\\t_metadata\\x94]\\x94\\x8c\\x05attrs\\x94}\\x94ubuu.',\n",
       "  'log': \"info > wrapper for v6-asr-py\\ninfo > Reading input file /mnt/data/task-000000133/input\\ninfo > No data format specified. Assuming input data is pickle format\\ninfo > Reading token file '/mnt/data/task-000000133/token'\\ninfo > Using '/mnt/data/a.csv' as database\\ninfo > Dispatching ...\\ninfo > Module 'v6-asr-py' imported!\\ninfo > Running a master-container\\ninfo > Working with collaboration_id <1>\\n[info]  - Dispatching preliminairy_results\\n[info]  - Calculating relative population\\n[info]  - Waiting for results\\n[info]  - Waiting for results\\n[info]  - Waiting for results\\n[info]  - Waiting for results\\n[info]  - Waiting for results\\n[info]  - Waiting for results\\n[info]  - Obtaining results\\n[info]  - Combining crude rates\\n[info]  - Calculating people at risk\\n[info]  - Dispatching Adjusted Rate\\n[info]  - Waiting for results\\n[info]  - Waiting for results\\n[info]  - Waiting for results\\n[info]  - Waiting for results\\n[info]  - Waiting for results\\n[info]  - Waiting for results\\n[info]  - Obtaining results\\n[info]  - Combining adjusted rates\\n[info]  - Master algorithm complete\\ninfo > Writing output to /mnt/data/task-000000133/output\\n\"}]"
      ]
     },
     "execution_count": 25,
     "metadata": {},
     "output_type": "execute_result"
    }
   ],
   "source": [
    "# Retrieve the results\n",
    "res = client.get_results(task_id=task.get(\"id\"))\n",
    "res"
   ]
  },
  {
   "cell_type": "markdown",
   "metadata": {},
   "source": [
    "Above we can see the results of the ASR calculation amongst three nodes and a very long base64 encoded pickle containing the input as well as log messages and info messages. As a researcher this won't matter that much so let us try to access the important parts. It is important to note that the results are sent back to you in first come first serve order, so the first result will be that of the first node in this case as that is the node \n",
    "we requested the algorithm to start with by adding `organization_ids=[1]` to the input.txt file. \n",
    "\n",
    "As this is a `list` we can access the first item (which is the result) by writing `res[0]`. Now we are accessing the nested dictionairy and to get the result from that we do `res[0]['result']` to get all the results from the nodes. To access more specific results such as `local_crude_rate` we would need to write `res[0]['result']['local_crude_rate']` and so on. "
   ]
  },
  {
   "cell_type": "code",
   "execution_count": 26,
   "metadata": {},
   "outputs": [
    {
     "data": {
      "text/plain": [
       "[pref  sex\n",
       " 0     1      25.583473\n",
       "       2      10.925984\n",
       "       9      16.115497\n",
       " dtype: float64,\n",
       " pref  sex\n",
       " 1     1      23.086337\n",
       "       2      16.318028\n",
       "       9      17.716605\n",
       " dtype: float64,\n",
       " pref  sex\n",
       " 2     1      35.697409\n",
       "       2      24.584043\n",
       "       9      55.478879\n",
       " dtype: float64]"
      ]
     },
     "execution_count": 26,
     "metadata": {},
     "output_type": "execute_result"
    }
   ],
   "source": [
    "res[0]['result']['local_crude_rate']"
   ]
  },
  {
   "cell_type": "markdown",
   "metadata": {},
   "source": [
    "We can tidy up the results a bit by wrapping it in a pandas dataframe object as below: "
   ]
  },
  {
   "cell_type": "code",
   "execution_count": 72,
   "metadata": {},
   "outputs": [
    {
     "data": {
      "text/html": [
       "<div>\n",
       "<style scoped>\n",
       "    .dataframe tbody tr th:only-of-type {\n",
       "        vertical-align: middle;\n",
       "    }\n",
       "\n",
       "    .dataframe tbody tr th {\n",
       "        vertical-align: top;\n",
       "    }\n",
       "\n",
       "    .dataframe thead th {\n",
       "        text-align: right;\n",
       "    }\n",
       "</style>\n",
       "<table border=\"1\" class=\"dataframe\">\n",
       "  <thead>\n",
       "    <tr style=\"text-align: right;\">\n",
       "      <th>sex</th>\n",
       "      <th>1</th>\n",
       "      <th>2</th>\n",
       "      <th>9</th>\n",
       "    </tr>\n",
       "  </thead>\n",
       "  <tbody>\n",
       "    <tr>\n",
       "      <th>0</th>\n",
       "      <td>25.583473</td>\n",
       "      <td>10.925984</td>\n",
       "      <td>16.115497</td>\n",
       "    </tr>\n",
       "  </tbody>\n",
       "</table>\n",
       "</div>"
      ],
      "text/plain": [
       "sex          1          2          9\n",
       "0    25.583473  10.925984  16.115497"
      ]
     },
     "execution_count": 72,
     "metadata": {},
     "output_type": "execute_result"
    }
   ],
   "source": [
    "pd.DataFrame(res[0]['result']['local_crude_rate'])[0][:1]"
   ]
  },
  {
   "cell_type": "markdown",
   "metadata": {},
   "source": [
    "# Individual RPC methods"
   ]
  },
  {
   "cell_type": "markdown",
   "metadata": {},
   "source": [
    "## RPC_preliminairy_results\n",
    "This method contains the crude rate calculation as well as the incidence population and total local population. This was done to save space within the code and it helps with communication between server and node. "
   ]
  },
  {
   "cell_type": "markdown",
   "metadata": {},
   "source": [
    "### input.txt\n",
    "The input methods name here has changed (but it is only a demonstration, you can call it whatever you want). Another thing that has changed is the `method` which has been set to a `preliminairy_results` and the `master` which has been\n",
    "set to `False` as this is no longer a master method. Also because we do not need the standard population for this calculation, it can be omitted from the input arguments within `kwargs`. "
   ]
  },
  {
   "cell_type": "code",
   "execution_count": 27,
   "metadata": {},
   "outputs": [],
   "source": [
    "prem_res_input = {\n",
    "        \"method\": \"preliminairy_results\",\n",
    "        \"master\": False,\n",
    "        \"kwargs\": {\n",
    "            \"incidence\": \"incidence\",\n",
    "            \"population\": \"pop\",\n",
    "            \"gender\": \"sex\",\n",
    "            \"ageclass\": \"agec\",\n",
    "            \"prefacture\": \"pref\"\n",
    "        }\n",
    "    } "
   ]
  },
  {
   "cell_type": "code",
   "execution_count": 28,
   "metadata": {},
   "outputs": [],
   "source": [
    "# Send the task to the central server\n",
    "task = client.post_task(\n",
    "    name=\"testing\",\n",
    "    image=\"harbor.vantage6.ai/algorithms/asr\",\n",
    "    collaboration_id=1,\n",
    "    input_= prem_res_input,\n",
    "    organization_ids=[2]\n",
    ")"
   ]
  },
  {
   "cell_type": "code",
   "execution_count": 31,
   "metadata": {},
   "outputs": [],
   "source": [
    "# Retrieve the results\n",
    "preliminairy_results = client.get_results(task_id=task.get(\"id\"))"
   ]
  },
  {
   "cell_type": "code",
   "execution_count": 34,
   "metadata": {},
   "outputs": [],
   "source": [
    "incidence_pop = preliminairy_results[0]['result']['incidence_population']"
   ]
  },
  {
   "cell_type": "markdown",
   "metadata": {},
   "source": [
    "## RPC_adjusted_rate\n",
    "This method is simply the adjusted rate calculation which uses the helper methods relative population `relative_population` (the standard population standerdised to 100000) and `people_at_risk` method to calculate the total people at risk of catching the disease across all nodes- this is used for the combined adjusted rate calculation between all nodes. As this is a demonstration, and helper functions cannot be accessed by researchers, we will import these results manually. "
   ]
  },
  {
   "cell_type": "code",
   "execution_count": 36,
   "metadata": {},
   "outputs": [],
   "source": [
    "pop_at_risk = asr.people_at_risk([incidence_pop])\n",
    "std_pop = pd.read_excel(r'C:\\Users\\hal2002.53340\\Repositories\\vantage6-repositories\\v6-asr-py\\v6-asr-py\\local\\std_pop.xlsx')\n",
    "rel_pop = asr.relative_population(data=std_pop, population='pop', ageclass='agec')"
   ]
  },
  {
   "cell_type": "code",
   "execution_count": 37,
   "metadata": {},
   "outputs": [],
   "source": [
    "adjusted_rate_input = {\n",
    "        \"method\": \"adjusted_rate\",\n",
    "        \"master\": False,\n",
    "        \"kwargs\": {\n",
    "            \"population\": \"pop\",\n",
    "            \"gender\": \"sex\",\n",
    "            \"ageclass\": \"agec\",\n",
    "            \"incidence\": \"incidence\",\n",
    "            \"people_at_risk\": pop_at_risk,\n",
    "            \"rel_pop\": rel_pop\n",
    "        }\n",
    "    }"
   ]
  },
  {
   "cell_type": "code",
   "execution_count": 38,
   "metadata": {},
   "outputs": [],
   "source": [
    "# Send the task to the central server\n",
    "task = client.post_task(\n",
    "    name=\"testing\",\n",
    "    image=\"harbor.vantage6.ai/algorithms/asr\",\n",
    "    collaboration_id=1,\n",
    "    input_= adjusted_rate_input,\n",
    "    organization_ids=[1,2,3]\n",
    ")"
   ]
  },
  {
   "cell_type": "code",
   "execution_count": 40,
   "metadata": {},
   "outputs": [
    {
     "data": {
      "text/plain": [
       "[{'task': {'id': 75, 'link': '/api/task/75', 'methods': ['GET', 'DELETE']},\n",
       "  'assigned_at': '2020-12-18T15:58:33.374237+00:00',\n",
       "  'organization': {'id': 1,\n",
       "   'link': '/api/organization/1',\n",
       "   'methods': ['PATCH', 'GET']},\n",
       "  'id': 141,\n",
       "  'started_at': '2020-12-18T16:58:35.728311+00:00',\n",
       "  'finished_at': '2020-12-18T16:58:46.949443+00:00',\n",
       "  'result': {'adj_rate_local': sex\n",
       "   1    22.494108\n",
       "   2    11.659402\n",
       "   9    16.530740\n",
       "   dtype: float64,\n",
       "   'adj_rate_glob': sex\n",
       "   1    22.316816\n",
       "   2    11.659402\n",
       "   9    16.530740\n",
       "   dtype: float64},\n",
       "  'input': b\"\\x80\\x04\\x95\\xc1\\x05\\x00\\x00\\x00\\x00\\x00\\x00}\\x94(\\x8c\\x06method\\x94\\x8c\\radjusted_rate\\x94\\x8c\\x06master\\x94\\x89\\x8c\\x06kwargs\\x94}\\x94(\\x8c\\npopulation\\x94\\x8c\\x03pop\\x94\\x8c\\x06gender\\x94\\x8c\\x03sex\\x94\\x8c\\x08ageclass\\x94\\x8c\\x04agec\\x94\\x8c\\tincidence\\x94h\\x0c\\x8c\\x0epeople_at_risk\\x94\\x8c\\x11pandas.core.frame\\x94\\x8c\\tDataFrame\\x94\\x93\\x94)\\x81\\x94}\\x94(\\x8c\\x04_mgr\\x94\\x8c\\x1epandas.core.internals.managers\\x94\\x8c\\x0cBlockManager\\x94\\x93\\x94)\\x81\\x94(]\\x94(\\x8c\\x18pandas.core.indexes.base\\x94\\x8c\\n_new_Index\\x94\\x93\\x94\\x8c\\x1bpandas.core.indexes.numeric\\x94\\x8c\\nInt64Index\\x94\\x93\\x94}\\x94(\\x8c\\x04data\\x94\\x8c\\x15numpy.core.multiarray\\x94\\x8c\\x0c_reconstruct\\x94\\x93\\x94\\x8c\\x05numpy\\x94\\x8c\\x07ndarray\\x94\\x93\\x94K\\x00\\x85\\x94C\\x01b\\x94\\x87\\x94R\\x94(K\\x01K\\x05\\x85\\x94h$\\x8c\\x05dtype\\x94\\x93\\x94\\x8c\\x02i8\\x94\\x89\\x88\\x87\\x94R\\x94(K\\x03\\x8c\\x01<\\x94NNNJ\\xff\\xff\\xff\\xffJ\\xff\\xff\\xff\\xffK\\x00t\\x94b\\x89C(\\x00\\x00\\x00\\x00\\x00\\x00\\x00\\x00\\x05\\x00\\x00\\x00\\x00\\x00\\x00\\x00\\n\\x00\\x00\\x00\\x00\\x00\\x00\\x00\\x0f\\x00\\x00\\x00\\x00\\x00\\x00\\x00\\x14\\x00\\x00\\x00\\x00\\x00\\x00\\x00\\x94t\\x94b\\x8c\\x04name\\x94\\x8c\\x04agec\\x94u\\x86\\x94R\\x94h\\x1bh\\x1e}\\x94(h h#h&K\\x00\\x85\\x94h(\\x87\\x94R\\x94(K\\x01K\\x03\\x85\\x94h0\\x89C\\x18\\x01\\x00\\x00\\x00\\x00\\x00\\x00\\x00\\x02\\x00\\x00\\x00\\x00\\x00\\x00\\x00\\t\\x00\\x00\\x00\\x00\\x00\\x00\\x00\\x94t\\x94bh5\\x8c\\x03sex\\x94u\\x86\\x94R\\x94e]\\x94h#h&K\\x00\\x85\\x94h(\\x87\\x94R\\x94(K\\x01K\\x05K\\x03\\x86\\x94h0\\x88Cx\\x8d\\x13\\x00\\x00\\x00\\x00\\x00\\x00:\\xf6\\x03\\x00\\x00\\x00\\x00\\x00\\xcd\\xd9\\x03\\x00\\x00\\x00\\x00\\x00'y\\x04\\x00\\x00\\x00\\x00\\x00\\x00\\x14\\x06\\x00\\x00\\x00\\x00\\x00\\xa2\\xc8\\x03\\x00\\x00\\x00\\x00\\x00v\\xc8\\x03\\x00\\x00\\x00\\x00\\x00\\x0e\\xb5\\x03\\x00\\x00\\x00\\x00\\x00\\x05[\\x04\\x00\\x00\\x00\\x00\\x00\\xa1\\xe0\\x05\\x00\\x00\\x00\\x00\\x00[\\xc0\\x07\\x00\\x00\\x00\\x00\\x00\\xb0\\xbe\\x07\\x00\\x00\\x00\\x00\\x00\\xdb\\x8e\\x07\\x00\\x00\\x00\\x00\\x00,\\xd4\\x08\\x00\\x00\\x00\\x00\\x00\\xa1\\xf4\\x0b\\x00\\x00\\x00\\x00\\x00\\x94t\\x94ba]\\x94h\\x1bh\\x1e}\\x94(h h#h&K\\x00\\x85\\x94h(\\x87\\x94R\\x94(K\\x01K\\x05\\x85\\x94h0\\x89C(\\x00\\x00\\x00\\x00\\x00\\x00\\x00\\x00\\x05\\x00\\x00\\x00\\x00\\x00\\x00\\x00\\n\\x00\\x00\\x00\\x00\\x00\\x00\\x00\\x0f\\x00\\x00\\x00\\x00\\x00\\x00\\x00\\x14\\x00\\x00\\x00\\x00\\x00\\x00\\x00\\x94t\\x94bh5h6u\\x86\\x94R\\x94a}\\x94\\x8c\\x060.14.1\\x94}\\x94(\\x8c\\x04axes\\x94h\\x18\\x8c\\x06blocks\\x94]\\x94}\\x94(\\x8c\\x06values\\x94hF\\x8c\\x08mgr_locs\\x94\\x8c\\x08builtins\\x94\\x8c\\x05slice\\x94\\x93\\x94K\\x00K\\x05K\\x01\\x87\\x94R\\x94uaust\\x94b\\x8c\\x04_typ\\x94\\x8c\\tdataframe\\x94\\x8c\\t_metadata\\x94]\\x94\\x8c\\x05attrs\\x94}\\x94ub\\x8c\\x07rel_pop\\x94\\x8c\\x12pandas.core.series\\x94\\x8c\\x06Series\\x94\\x93\\x94)\\x81\\x94}\\x94(h\\x13h\\x14\\x8c\\x12SingleBlockManager\\x94\\x93\\x94)\\x81\\x94(]\\x94h\\x1bh\\x1e}\\x94(h h#h&K\\x00\\x85\\x94h(\\x87\\x94R\\x94(K\\x01K\\x05\\x85\\x94h-\\x8c\\x02i8\\x94\\x89\\x88\\x87\\x94R\\x94(K\\x03h1NNNJ\\xff\\xff\\xff\\xffJ\\xff\\xff\\xff\\xffK\\x00t\\x94b\\x89C(\\x00\\x00\\x00\\x00\\x00\\x00\\x00\\x00\\x05\\x00\\x00\\x00\\x00\\x00\\x00\\x00\\n\\x00\\x00\\x00\\x00\\x00\\x00\\x00\\x0f\\x00\\x00\\x00\\x00\\x00\\x00\\x00\\x14\\x00\\x00\\x00\\x00\\x00\\x00\\x00\\x94t\\x94bh5\\x8c\\x04agec\\x94u\\x86\\x94R\\x94a]\\x94h#h&K\\x00\\x85\\x94h(\\x87\\x94R\\x94(K\\x01K\\x05\\x85\\x94h-\\x8c\\x02f8\\x94\\x89\\x88\\x87\\x94R\\x94(K\\x03h1NNNJ\\xff\\xff\\xff\\xffJ\\xff\\xff\\xff\\xffK\\x00t\\x94b\\x89C(\\x96\\x01\\x1bS\\xdf\\x9c\\x9c@M\\xd5\\x16\\xa4FM\\xd7@=\\x07\\xb1\\x9a\\x07\\xbf\\xd7@\\xb6 \\xb6j\\x110\\xd8@\\xa7RPa\\xd2\\xa1\\xd8@\\x94t\\x94ba]\\x94h\\x1bh\\x1e}\\x94(h h#h&K\\x00\\x85\\x94h(\\x87\\x94R\\x94(K\\x01K\\x05\\x85\\x94hz\\x89C(\\x00\\x00\\x00\\x00\\x00\\x00\\x00\\x00\\x05\\x00\\x00\\x00\\x00\\x00\\x00\\x00\\n\\x00\\x00\\x00\\x00\\x00\\x00\\x00\\x0f\\x00\\x00\\x00\\x00\\x00\\x00\\x00\\x14\\x00\\x00\\x00\\x00\\x00\\x00\\x00\\x94t\\x94bh5h~u\\x86\\x94R\\x94a}\\x94hU}\\x94(hWhrhX]\\x94}\\x94(h[h\\x84h\\\\h_K\\x00K\\x05K\\x01\\x87\\x94R\\x94uaust\\x94bhc\\x8c\\x06series\\x94he]\\x94h5ahg}\\x94h5Nubuu.\",\n",
       "  'log': \"info > wrapper for v6-asr-py\\ninfo > Reading input file /mnt/data/task-000000141/input\\ninfo > No data format specified. Assuming input data is pickle format\\ninfo > Reading token file '/mnt/data/task-000000141/token'\\ninfo > Using '/mnt/data/a.csv' as database\\ninfo > Dispatching ...\\ninfo > Module 'v6-asr-py' imported!\\ninfo > Running a regular container\\ninfo > Writing output to /mnt/data/task-000000141/output\\n\"},\n",
       " {'task': {'id': 75, 'link': '/api/task/75', 'methods': ['GET', 'DELETE']},\n",
       "  'assigned_at': '2020-12-18T15:58:33.411357+00:00',\n",
       "  'organization': {'id': 2,\n",
       "   'link': '/api/organization/2',\n",
       "   'methods': ['PATCH', 'GET']},\n",
       "  'id': 142,\n",
       "  'started_at': '2020-12-18T16:58:35.791322+00:00',\n",
       "  'finished_at': '2020-12-18T16:58:47.399125+00:00',\n",
       "  'result': {'adj_rate_local': sex\n",
       "   1    20.910456\n",
       "   2    16.133185\n",
       "   9    17.289178\n",
       "   dtype: float64,\n",
       "   'adj_rate_glob': sex\n",
       "   1    20.910456\n",
       "   2    16.133185\n",
       "   9    17.289178\n",
       "   dtype: float64},\n",
       "  'input': b\"\\x80\\x04\\x95\\xc1\\x05\\x00\\x00\\x00\\x00\\x00\\x00}\\x94(\\x8c\\x06method\\x94\\x8c\\radjusted_rate\\x94\\x8c\\x06master\\x94\\x89\\x8c\\x06kwargs\\x94}\\x94(\\x8c\\npopulation\\x94\\x8c\\x03pop\\x94\\x8c\\x06gender\\x94\\x8c\\x03sex\\x94\\x8c\\x08ageclass\\x94\\x8c\\x04agec\\x94\\x8c\\tincidence\\x94h\\x0c\\x8c\\x0epeople_at_risk\\x94\\x8c\\x11pandas.core.frame\\x94\\x8c\\tDataFrame\\x94\\x93\\x94)\\x81\\x94}\\x94(\\x8c\\x04_mgr\\x94\\x8c\\x1epandas.core.internals.managers\\x94\\x8c\\x0cBlockManager\\x94\\x93\\x94)\\x81\\x94(]\\x94(\\x8c\\x18pandas.core.indexes.base\\x94\\x8c\\n_new_Index\\x94\\x93\\x94\\x8c\\x1bpandas.core.indexes.numeric\\x94\\x8c\\nInt64Index\\x94\\x93\\x94}\\x94(\\x8c\\x04data\\x94\\x8c\\x15numpy.core.multiarray\\x94\\x8c\\x0c_reconstruct\\x94\\x93\\x94\\x8c\\x05numpy\\x94\\x8c\\x07ndarray\\x94\\x93\\x94K\\x00\\x85\\x94C\\x01b\\x94\\x87\\x94R\\x94(K\\x01K\\x05\\x85\\x94h$\\x8c\\x05dtype\\x94\\x93\\x94\\x8c\\x02i8\\x94\\x89\\x88\\x87\\x94R\\x94(K\\x03\\x8c\\x01<\\x94NNNJ\\xff\\xff\\xff\\xffJ\\xff\\xff\\xff\\xffK\\x00t\\x94b\\x89C(\\x00\\x00\\x00\\x00\\x00\\x00\\x00\\x00\\x05\\x00\\x00\\x00\\x00\\x00\\x00\\x00\\n\\x00\\x00\\x00\\x00\\x00\\x00\\x00\\x0f\\x00\\x00\\x00\\x00\\x00\\x00\\x00\\x14\\x00\\x00\\x00\\x00\\x00\\x00\\x00\\x94t\\x94b\\x8c\\x04name\\x94\\x8c\\x04agec\\x94u\\x86\\x94R\\x94h\\x1bh\\x1e}\\x94(h h#h&K\\x00\\x85\\x94h(\\x87\\x94R\\x94(K\\x01K\\x03\\x85\\x94h0\\x89C\\x18\\x01\\x00\\x00\\x00\\x00\\x00\\x00\\x00\\x02\\x00\\x00\\x00\\x00\\x00\\x00\\x00\\t\\x00\\x00\\x00\\x00\\x00\\x00\\x00\\x94t\\x94bh5\\x8c\\x03sex\\x94u\\x86\\x94R\\x94e]\\x94h#h&K\\x00\\x85\\x94h(\\x87\\x94R\\x94(K\\x01K\\x05K\\x03\\x86\\x94h0\\x88Cx\\x8d\\x13\\x00\\x00\\x00\\x00\\x00\\x00:\\xf6\\x03\\x00\\x00\\x00\\x00\\x00\\xcd\\xd9\\x03\\x00\\x00\\x00\\x00\\x00'y\\x04\\x00\\x00\\x00\\x00\\x00\\x00\\x14\\x06\\x00\\x00\\x00\\x00\\x00\\xa2\\xc8\\x03\\x00\\x00\\x00\\x00\\x00v\\xc8\\x03\\x00\\x00\\x00\\x00\\x00\\x0e\\xb5\\x03\\x00\\x00\\x00\\x00\\x00\\x05[\\x04\\x00\\x00\\x00\\x00\\x00\\xa1\\xe0\\x05\\x00\\x00\\x00\\x00\\x00[\\xc0\\x07\\x00\\x00\\x00\\x00\\x00\\xb0\\xbe\\x07\\x00\\x00\\x00\\x00\\x00\\xdb\\x8e\\x07\\x00\\x00\\x00\\x00\\x00,\\xd4\\x08\\x00\\x00\\x00\\x00\\x00\\xa1\\xf4\\x0b\\x00\\x00\\x00\\x00\\x00\\x94t\\x94ba]\\x94h\\x1bh\\x1e}\\x94(h h#h&K\\x00\\x85\\x94h(\\x87\\x94R\\x94(K\\x01K\\x05\\x85\\x94h0\\x89C(\\x00\\x00\\x00\\x00\\x00\\x00\\x00\\x00\\x05\\x00\\x00\\x00\\x00\\x00\\x00\\x00\\n\\x00\\x00\\x00\\x00\\x00\\x00\\x00\\x0f\\x00\\x00\\x00\\x00\\x00\\x00\\x00\\x14\\x00\\x00\\x00\\x00\\x00\\x00\\x00\\x94t\\x94bh5h6u\\x86\\x94R\\x94a}\\x94\\x8c\\x060.14.1\\x94}\\x94(\\x8c\\x04axes\\x94h\\x18\\x8c\\x06blocks\\x94]\\x94}\\x94(\\x8c\\x06values\\x94hF\\x8c\\x08mgr_locs\\x94\\x8c\\x08builtins\\x94\\x8c\\x05slice\\x94\\x93\\x94K\\x00K\\x05K\\x01\\x87\\x94R\\x94uaust\\x94b\\x8c\\x04_typ\\x94\\x8c\\tdataframe\\x94\\x8c\\t_metadata\\x94]\\x94\\x8c\\x05attrs\\x94}\\x94ub\\x8c\\x07rel_pop\\x94\\x8c\\x12pandas.core.series\\x94\\x8c\\x06Series\\x94\\x93\\x94)\\x81\\x94}\\x94(h\\x13h\\x14\\x8c\\x12SingleBlockManager\\x94\\x93\\x94)\\x81\\x94(]\\x94h\\x1bh\\x1e}\\x94(h h#h&K\\x00\\x85\\x94h(\\x87\\x94R\\x94(K\\x01K\\x05\\x85\\x94h-\\x8c\\x02i8\\x94\\x89\\x88\\x87\\x94R\\x94(K\\x03h1NNNJ\\xff\\xff\\xff\\xffJ\\xff\\xff\\xff\\xffK\\x00t\\x94b\\x89C(\\x00\\x00\\x00\\x00\\x00\\x00\\x00\\x00\\x05\\x00\\x00\\x00\\x00\\x00\\x00\\x00\\n\\x00\\x00\\x00\\x00\\x00\\x00\\x00\\x0f\\x00\\x00\\x00\\x00\\x00\\x00\\x00\\x14\\x00\\x00\\x00\\x00\\x00\\x00\\x00\\x94t\\x94bh5\\x8c\\x04agec\\x94u\\x86\\x94R\\x94a]\\x94h#h&K\\x00\\x85\\x94h(\\x87\\x94R\\x94(K\\x01K\\x05\\x85\\x94h-\\x8c\\x02f8\\x94\\x89\\x88\\x87\\x94R\\x94(K\\x03h1NNNJ\\xff\\xff\\xff\\xffJ\\xff\\xff\\xff\\xffK\\x00t\\x94b\\x89C(\\x96\\x01\\x1bS\\xdf\\x9c\\x9c@M\\xd5\\x16\\xa4FM\\xd7@=\\x07\\xb1\\x9a\\x07\\xbf\\xd7@\\xb6 \\xb6j\\x110\\xd8@\\xa7RPa\\xd2\\xa1\\xd8@\\x94t\\x94ba]\\x94h\\x1bh\\x1e}\\x94(h h#h&K\\x00\\x85\\x94h(\\x87\\x94R\\x94(K\\x01K\\x05\\x85\\x94hz\\x89C(\\x00\\x00\\x00\\x00\\x00\\x00\\x00\\x00\\x05\\x00\\x00\\x00\\x00\\x00\\x00\\x00\\n\\x00\\x00\\x00\\x00\\x00\\x00\\x00\\x0f\\x00\\x00\\x00\\x00\\x00\\x00\\x00\\x14\\x00\\x00\\x00\\x00\\x00\\x00\\x00\\x94t\\x94bh5h~u\\x86\\x94R\\x94a}\\x94hU}\\x94(hWhrhX]\\x94}\\x94(h[h\\x84h\\\\h_K\\x00K\\x05K\\x01\\x87\\x94R\\x94uaust\\x94bhc\\x8c\\x06series\\x94he]\\x94h5ahg}\\x94h5Nubuu.\",\n",
       "  'log': \"info > wrapper for v6-asr-py\\ninfo > Reading input file /mnt/data/task-000000142/input\\ninfo > No data format specified. Assuming input data is pickle format\\ninfo > Reading token file '/mnt/data/task-000000142/token'\\ninfo > Using '/mnt/data/b.csv' as database\\ninfo > Dispatching ...\\ninfo > Module 'v6-asr-py' imported!\\ninfo > Running a regular container\\ninfo > Writing output to /mnt/data/task-000000142/output\\n\"},\n",
       " {'task': {'id': 75, 'link': '/api/task/75', 'methods': ['GET', 'DELETE']},\n",
       "  'assigned_at': '2020-12-18T15:58:33.454093+00:00',\n",
       "  'organization': {'id': 3,\n",
       "   'link': '/api/organization/3',\n",
       "   'methods': ['PATCH', 'GET']},\n",
       "  'id': 143,\n",
       "  'started_at': '2020-12-18T16:58:35.852919+00:00',\n",
       "  'finished_at': '2020-12-18T16:58:50.526111+00:00',\n",
       "  'result': {'adj_rate_local': sex\n",
       "   1    41.115899\n",
       "   2    34.742488\n",
       "   9    83.490644\n",
       "   dtype: float64,\n",
       "   'adj_rate_glob': sex\n",
       "   1    19.099044\n",
       "   2    14.863172\n",
       "   9    16.833966\n",
       "   dtype: float64},\n",
       "  'input': b\"\\x80\\x04\\x95\\xc1\\x05\\x00\\x00\\x00\\x00\\x00\\x00}\\x94(\\x8c\\x06method\\x94\\x8c\\radjusted_rate\\x94\\x8c\\x06master\\x94\\x89\\x8c\\x06kwargs\\x94}\\x94(\\x8c\\npopulation\\x94\\x8c\\x03pop\\x94\\x8c\\x06gender\\x94\\x8c\\x03sex\\x94\\x8c\\x08ageclass\\x94\\x8c\\x04agec\\x94\\x8c\\tincidence\\x94h\\x0c\\x8c\\x0epeople_at_risk\\x94\\x8c\\x11pandas.core.frame\\x94\\x8c\\tDataFrame\\x94\\x93\\x94)\\x81\\x94}\\x94(\\x8c\\x04_mgr\\x94\\x8c\\x1epandas.core.internals.managers\\x94\\x8c\\x0cBlockManager\\x94\\x93\\x94)\\x81\\x94(]\\x94(\\x8c\\x18pandas.core.indexes.base\\x94\\x8c\\n_new_Index\\x94\\x93\\x94\\x8c\\x1bpandas.core.indexes.numeric\\x94\\x8c\\nInt64Index\\x94\\x93\\x94}\\x94(\\x8c\\x04data\\x94\\x8c\\x15numpy.core.multiarray\\x94\\x8c\\x0c_reconstruct\\x94\\x93\\x94\\x8c\\x05numpy\\x94\\x8c\\x07ndarray\\x94\\x93\\x94K\\x00\\x85\\x94C\\x01b\\x94\\x87\\x94R\\x94(K\\x01K\\x05\\x85\\x94h$\\x8c\\x05dtype\\x94\\x93\\x94\\x8c\\x02i8\\x94\\x89\\x88\\x87\\x94R\\x94(K\\x03\\x8c\\x01<\\x94NNNJ\\xff\\xff\\xff\\xffJ\\xff\\xff\\xff\\xffK\\x00t\\x94b\\x89C(\\x00\\x00\\x00\\x00\\x00\\x00\\x00\\x00\\x05\\x00\\x00\\x00\\x00\\x00\\x00\\x00\\n\\x00\\x00\\x00\\x00\\x00\\x00\\x00\\x0f\\x00\\x00\\x00\\x00\\x00\\x00\\x00\\x14\\x00\\x00\\x00\\x00\\x00\\x00\\x00\\x94t\\x94b\\x8c\\x04name\\x94\\x8c\\x04agec\\x94u\\x86\\x94R\\x94h\\x1bh\\x1e}\\x94(h h#h&K\\x00\\x85\\x94h(\\x87\\x94R\\x94(K\\x01K\\x03\\x85\\x94h0\\x89C\\x18\\x01\\x00\\x00\\x00\\x00\\x00\\x00\\x00\\x02\\x00\\x00\\x00\\x00\\x00\\x00\\x00\\t\\x00\\x00\\x00\\x00\\x00\\x00\\x00\\x94t\\x94bh5\\x8c\\x03sex\\x94u\\x86\\x94R\\x94e]\\x94h#h&K\\x00\\x85\\x94h(\\x87\\x94R\\x94(K\\x01K\\x05K\\x03\\x86\\x94h0\\x88Cx\\x8d\\x13\\x00\\x00\\x00\\x00\\x00\\x00:\\xf6\\x03\\x00\\x00\\x00\\x00\\x00\\xcd\\xd9\\x03\\x00\\x00\\x00\\x00\\x00'y\\x04\\x00\\x00\\x00\\x00\\x00\\x00\\x14\\x06\\x00\\x00\\x00\\x00\\x00\\xa2\\xc8\\x03\\x00\\x00\\x00\\x00\\x00v\\xc8\\x03\\x00\\x00\\x00\\x00\\x00\\x0e\\xb5\\x03\\x00\\x00\\x00\\x00\\x00\\x05[\\x04\\x00\\x00\\x00\\x00\\x00\\xa1\\xe0\\x05\\x00\\x00\\x00\\x00\\x00[\\xc0\\x07\\x00\\x00\\x00\\x00\\x00\\xb0\\xbe\\x07\\x00\\x00\\x00\\x00\\x00\\xdb\\x8e\\x07\\x00\\x00\\x00\\x00\\x00,\\xd4\\x08\\x00\\x00\\x00\\x00\\x00\\xa1\\xf4\\x0b\\x00\\x00\\x00\\x00\\x00\\x94t\\x94ba]\\x94h\\x1bh\\x1e}\\x94(h h#h&K\\x00\\x85\\x94h(\\x87\\x94R\\x94(K\\x01K\\x05\\x85\\x94h0\\x89C(\\x00\\x00\\x00\\x00\\x00\\x00\\x00\\x00\\x05\\x00\\x00\\x00\\x00\\x00\\x00\\x00\\n\\x00\\x00\\x00\\x00\\x00\\x00\\x00\\x0f\\x00\\x00\\x00\\x00\\x00\\x00\\x00\\x14\\x00\\x00\\x00\\x00\\x00\\x00\\x00\\x94t\\x94bh5h6u\\x86\\x94R\\x94a}\\x94\\x8c\\x060.14.1\\x94}\\x94(\\x8c\\x04axes\\x94h\\x18\\x8c\\x06blocks\\x94]\\x94}\\x94(\\x8c\\x06values\\x94hF\\x8c\\x08mgr_locs\\x94\\x8c\\x08builtins\\x94\\x8c\\x05slice\\x94\\x93\\x94K\\x00K\\x05K\\x01\\x87\\x94R\\x94uaust\\x94b\\x8c\\x04_typ\\x94\\x8c\\tdataframe\\x94\\x8c\\t_metadata\\x94]\\x94\\x8c\\x05attrs\\x94}\\x94ub\\x8c\\x07rel_pop\\x94\\x8c\\x12pandas.core.series\\x94\\x8c\\x06Series\\x94\\x93\\x94)\\x81\\x94}\\x94(h\\x13h\\x14\\x8c\\x12SingleBlockManager\\x94\\x93\\x94)\\x81\\x94(]\\x94h\\x1bh\\x1e}\\x94(h h#h&K\\x00\\x85\\x94h(\\x87\\x94R\\x94(K\\x01K\\x05\\x85\\x94h-\\x8c\\x02i8\\x94\\x89\\x88\\x87\\x94R\\x94(K\\x03h1NNNJ\\xff\\xff\\xff\\xffJ\\xff\\xff\\xff\\xffK\\x00t\\x94b\\x89C(\\x00\\x00\\x00\\x00\\x00\\x00\\x00\\x00\\x05\\x00\\x00\\x00\\x00\\x00\\x00\\x00\\n\\x00\\x00\\x00\\x00\\x00\\x00\\x00\\x0f\\x00\\x00\\x00\\x00\\x00\\x00\\x00\\x14\\x00\\x00\\x00\\x00\\x00\\x00\\x00\\x94t\\x94bh5\\x8c\\x04agec\\x94u\\x86\\x94R\\x94a]\\x94h#h&K\\x00\\x85\\x94h(\\x87\\x94R\\x94(K\\x01K\\x05\\x85\\x94h-\\x8c\\x02f8\\x94\\x89\\x88\\x87\\x94R\\x94(K\\x03h1NNNJ\\xff\\xff\\xff\\xffJ\\xff\\xff\\xff\\xffK\\x00t\\x94b\\x89C(\\x96\\x01\\x1bS\\xdf\\x9c\\x9c@M\\xd5\\x16\\xa4FM\\xd7@=\\x07\\xb1\\x9a\\x07\\xbf\\xd7@\\xb6 \\xb6j\\x110\\xd8@\\xa7RPa\\xd2\\xa1\\xd8@\\x94t\\x94ba]\\x94h\\x1bh\\x1e}\\x94(h h#h&K\\x00\\x85\\x94h(\\x87\\x94R\\x94(K\\x01K\\x05\\x85\\x94hz\\x89C(\\x00\\x00\\x00\\x00\\x00\\x00\\x00\\x00\\x05\\x00\\x00\\x00\\x00\\x00\\x00\\x00\\n\\x00\\x00\\x00\\x00\\x00\\x00\\x00\\x0f\\x00\\x00\\x00\\x00\\x00\\x00\\x00\\x14\\x00\\x00\\x00\\x00\\x00\\x00\\x00\\x94t\\x94bh5h~u\\x86\\x94R\\x94a}\\x94hU}\\x94(hWhrhX]\\x94}\\x94(h[h\\x84h\\\\h_K\\x00K\\x05K\\x01\\x87\\x94R\\x94uaust\\x94bhc\\x8c\\x06series\\x94he]\\x94h5ahg}\\x94h5Nubuu.\",\n",
       "  'log': \"info > wrapper for v6-asr-py\\ninfo > Reading input file /mnt/data/task-000000143/input\\ninfo > No data format specified. Assuming input data is pickle format\\ninfo > Reading token file '/mnt/data/task-000000143/token'\\ninfo > Using '/mnt/data/c.csv' as database\\ninfo > Dispatching ...\\ninfo > Module 'v6-asr-py' imported!\\ninfo > Running a regular container\\ninfo > Writing output to /mnt/data/task-000000143/output\\n\"}]"
      ]
     },
     "execution_count": 40,
     "metadata": {},
     "output_type": "execute_result"
    }
   ],
   "source": [
    "adjusted_rate = client.get_results(task_id=task.get(\"id\"))\n",
    "adjusted_rate"
   ]
  }
 ],
 "metadata": {
  "kernelspec": {
   "display_name": "vantage6",
   "language": "python",
   "name": "vantage6"
  },
  "language_info": {
   "codemirror_mode": {
    "name": "ipython",
    "version": 3
   },
   "file_extension": ".py",
   "mimetype": "text/x-python",
   "name": "python",
   "nbconvert_exporter": "python",
   "pygments_lexer": "ipython3",
   "version": "3.8.5"
  }
 },
 "nbformat": 4,
 "nbformat_minor": 4
}
